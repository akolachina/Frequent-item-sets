{
 "cells": [
  {
   "cell_type": "markdown",
   "metadata": {},
   "source": [
    "## Frequent Item Sets "
   ]
  },
  {
   "cell_type": "markdown",
   "metadata": {},
   "source": [
    "### Efficiency considerations\n",
    "\n",
    "1. I read the entire data set into main memory to speed up the implementation. However, if the data set is huge, we could read one line at a time from disk, process to count frequency then go back and read next line.\n",
    "\n",
    "2. The time taken upto identification of frequent quadruples is within 3 mins on local machine. For five and over, it takes longer. The biggest time consumption here is to look through all candidate quads for each five group and check if they are a frequent quad. If we had a cluster and memory is not a constraint, this check could be avoided to speed up the algorithm.\n"
   ]
  },
  {
   "cell_type": "code",
   "execution_count": 1,
   "metadata": {},
   "outputs": [],
   "source": [
    "#Read the dataset in to main memory and store in raw_data\n",
    "import pandas as pd\n",
    "import os\n",
    "#import nltk\n",
    "#nltk.download('punkt')\n",
    "\n",
    "support_level = 4\n",
    "\n",
    "with open('C:/Users/akolachi/Globality Retail25K/retail_25k.dat',mode ='r') as fp:\n",
    "    line = fp.readline().strip()\n",
    "    raw_data = {}\n",
    "    counter = 0\n",
    "    while (line):\n",
    "        raw_data[counter] = line.split()\n",
    "        counter = counter+1\n",
    "        line = fp.readline().strip()"
   ]
  },
  {
   "cell_type": "code",
   "execution_count": 2,
   "metadata": {},
   "outputs": [
    {
     "data": {
      "text/plain": [
       "25000"
      ]
     },
     "execution_count": 2,
     "metadata": {},
     "output_type": "execute_result"
    }
   ],
   "source": [
    "len(raw_data)"
   ]
  },
  {
   "cell_type": "markdown",
   "metadata": {},
   "source": [
    "25000 transactions in the database"
   ]
  },
  {
   "cell_type": "code",
   "execution_count": 3,
   "metadata": {},
   "outputs": [],
   "source": [
    "#create a dataframe to capture frequency of each item in different itemsets.\n",
    "# In the current block we will set the keys of the dataframe to individual items and leave\n",
    "# values as null lists. The values will be updated once frequent item sets are computed\n",
    "individual_items_count = {}\n",
    "for k, v in raw_data.items():\n",
    "    for i in range(len(v)):\n",
    "        if v[i] in individual_items_count.keys():\n",
    "           continue\n",
    "        else:\n",
    "            individual_items_count[v[i]] = []\n",
    "    else:\n",
    "        continue\n"
   ]
  },
  {
   "cell_type": "code",
   "execution_count": 4,
   "metadata": {},
   "outputs": [],
   "source": [
    "##Function to prune count of item sets to frequent item sets based on support level.\n",
    "## x -  dict of item counts \n",
    "## support_level = minimum no of transactions the itemset needs to be in to be considered frequent\n",
    "## y - returns dict of frequent items\n",
    "def prune(x):\n",
    "    y = {}    \n",
    "    for k,v in x.items():\n",
    "        if v >= support_level:\n",
    "            y[k] = v\n",
    "        else: \n",
    "            continue\n",
    "    return y"
   ]
  },
  {
   "cell_type": "code",
   "execution_count": 5,
   "metadata": {},
   "outputs": [],
   "source": [
    "## Add number of itemsets the item is in to individual_item_count\n",
    "# x - dict of frequent item set \n",
    "# individual_items_count - dict of individual_items_count initiated earlier with keys as individual items\n",
    "#no_items_in_tuple - size of the itemset (1,2,3,4, ...)\n",
    "\n",
    "def capture_item_count(x,individual_items_count, no_of_items_in_tuple):\n",
    "       \n",
    "    #initialize to 0 a new entry into the list of values for the itemset\n",
    "    for k, v in individual_items_count.items():\n",
    "        individual_items_count[k].insert(no_of_items_in_tuple, 0)\n",
    "    \n",
    "    \n",
    "    #if the itemset is size one, number of itemsets the item is in = number of transactions item is in\n",
    "    if no_of_items_in_tuple == 1:\n",
    "        for k,v in x.items():\n",
    "            individual_items_count[k][no_of_items_in_tuple-1] = v\n",
    "    \n",
    "    #for bigger itemset sizes, scan through the frequent itemset dict and increment count everytime the item is found \n",
    "    #K is a tuple of length = size of itemset\n",
    "    else:\n",
    "        for k,v in x.items():\n",
    "            for i in range(no_of_items_in_tuple):\n",
    "                individual_items_count[k[i]][no_of_items_in_tuple-1] +=1\n",
    "                \n",
    "\n",
    "    return individual_items_count\n",
    "    "
   ]
  },
  {
   "cell_type": "code",
   "execution_count": 6,
   "metadata": {},
   "outputs": [],
   "source": [
    "#check that each item is present only once in each transaction\n",
    "# This didnot print anything to screen. So, confirmed no duplicates within each transaction\n",
    "for k, v in raw_data.items():\n",
    "    cnt = {}\n",
    "    v = list(map(int, v))\n",
    "    v.sort()\n",
    "    v = list(map(str, v))\n",
    "    for i in range(len(v)):\n",
    "        if v[i] in cnt.keys():\n",
    "            cnt[v[i]] +=1\n",
    "        else:\n",
    "            cnt[v[i]] =1\n",
    "    for k,v in cnt.items():\n",
    "        if v >1:\n",
    "            print(k)"
   ]
  },
  {
   "cell_type": "code",
   "execution_count": 7,
   "metadata": {},
   "outputs": [],
   "source": [
    "#Count the number of transactions each item is in to single_count\n",
    "single_count = {}\n",
    "\n",
    "for k, v in raw_data.items():\n",
    "    #make sure that items are sorted, so that when pairs and triples are created, the combination is not repeated\n",
    "    #for ex., (1,2) and (2,1) is one pair only. (2,1) can be avoided by sorting\n",
    "    v = list(map(int, v))\n",
    "    v.sort()\n",
    "    v = list(map(str,v))\n",
    "    #use v only if v has more elements than the itemset size we are trying to get. (in this case, 1)\n",
    "    if len(v) >=1: \n",
    "        for i in range(len(v)):\n",
    "            if v[i] in single_count.keys():\n",
    "               single_count[v[i]] +=1\n",
    "            else:\n",
    "                single_count[v[i]] = 1\n",
    "        else:\n",
    "            continue\n",
    "\n",
    "# prune the counts to get frequent items           \n",
    "single_freq_items = prune(single_count)\n",
    "#update the first element of individual_items_count with each frequent items frequency. If item is not frequent, it will be set to 0\n",
    "individual_items_count = capture_item_count(single_freq_items,individual_items_count,no_of_items_in_tuple =1 )"
   ]
  },
  {
   "cell_type": "code",
   "execution_count": 8,
   "metadata": {},
   "outputs": [
    {
     "data": {
      "text/plain": [
       "11427"
      ]
     },
     "execution_count": 8,
     "metadata": {},
     "output_type": "execute_result"
    }
   ],
   "source": [
    "len(single_count)"
   ]
  },
  {
   "cell_type": "code",
   "execution_count": 9,
   "metadata": {},
   "outputs": [
    {
     "data": {
      "text/plain": [
       "7232"
      ]
     },
     "execution_count": 9,
     "metadata": {},
     "output_type": "execute_result"
    }
   ],
   "source": [
    "len(single_freq_items)"
   ]
  },
  {
   "cell_type": "code",
   "execution_count": 10,
   "metadata": {},
   "outputs": [],
   "source": [
    "#Count number of candidate pairs of items into double_count dict\n",
    "double_count = {}\n",
    "for k, v in raw_data.items():\n",
    "    v = list(map(int, v))\n",
    "    v.sort()\n",
    "    v = list(map(str,v))\n",
    "    #use v only if it has more than 2 items required for itemset size 2\n",
    "    if len(v) >=2:\n",
    "        #only use item if it is a singleton frequent item\n",
    "        for i in range(len(v)-1):\n",
    "            if individual_items_count[v[i]][0]>0:\n",
    "                for j in range(i+1,len(v)):\n",
    "                    if individual_items_count[v[j]][0]>0:\n",
    "                        #create a candidate pair for all combinations of items in v that are singleton frequent\n",
    "                        if (v[i],v[j]) in double_count.keys():\n",
    "                            double_count[(v[i],v[j])] +=1\n",
    "                        else:\n",
    "                            double_count[(v[i],v[j])] = 1\n",
    "                    else:\n",
    "                        continue\n",
    "            else:\n",
    "                continue\n",
    "\n",
    "#prune the counts to get frequent pairs\n",
    "double_freq_items = prune(double_count)  \n",
    "\n",
    "#update the second element of individual_items_count with no of frequent pairs each item is in. If item is not in any pair, it will be set to 0\n",
    "individual_items_count = capture_item_count(double_freq_items,individual_items_count,no_of_items_in_tuple =2 )"
   ]
  },
  {
   "cell_type": "code",
   "execution_count": 11,
   "metadata": {},
   "outputs": [
    {
     "data": {
      "text/plain": [
       "54715"
      ]
     },
     "execution_count": 11,
     "metadata": {},
     "output_type": "execute_result"
    }
   ],
   "source": [
    "len(double_freq_items)"
   ]
  },
  {
   "cell_type": "code",
   "execution_count": 12,
   "metadata": {},
   "outputs": [],
   "source": [
    "#count number of candidate triples and capture in triple_count dict\n",
    "triple_count = {}\n",
    "for k, v in raw_data.items():\n",
    "\n",
    "    v = list(map(int, v))\n",
    "    v.sort()\n",
    "    v = list(map(str, v))\n",
    "    candidate_triple_single = []\n",
    "    \n",
    "    #process only if there are atleast 3 items in transaction\n",
    "    if len(v) >=3:\n",
    "        for i in range(len(v)):\n",
    "            #each item should be in atleast two frequent item pairs to be a frequent triple\n",
    "            #capture all such items from transaction into candidate_triple_single list\n",
    "                try:\n",
    "                    if individual_items_count[v[i]][1] >=2:\n",
    "                        candidate_triple_single.append(v[i])\n",
    "                        \n",
    "                except KeyError:\n",
    "                    continue\n",
    "        \n",
    "        # only if there are atleast 3 items in the list, there is a possibility of making a candidate triple  \n",
    "        if len(candidate_triple_single) >=3:\n",
    "            #make all possible triples from the transaction\n",
    "            for p in range(len(candidate_triple_single)-2):\n",
    "                for q in range(p+1,len(candidate_triple_single)-1):\n",
    "                    for r in range(q+1, len(candidate_triple_single)):\n",
    "                        a = (candidate_triple_single[p],candidate_triple_single[q],candidate_triple_single[r])\n",
    "                        candidate_triple_double = []\n",
    "                        #for each triple, check if ALL underlying pairs are frequent pairs.\n",
    "                        for i in range(len(a)-1):\n",
    "                            for j in range(i+1,len(a)):\n",
    "                                if (a[i],a[j]) in double_freq_items.keys():\n",
    "                                    candidate_triple_double.append((a[i],a[j]))\n",
    "                                else:\n",
    "                                    continue\n",
    "                        \n",
    "                        #If the triple makes three frequent pairs, it can be considered a candidate triple\n",
    "                        if len(candidate_triple_double)== 3:\n",
    "                            if a in triple_count.keys():\n",
    "                                triple_count[a] += 1\n",
    "                            else:\n",
    "                                triple_count[a] =1\n",
    "                        else: \n",
    "                            continue\n",
    "\n",
    "#prune the counts to get frequent pairs                           \n",
    "triple_freq_items = prune(triple_count)\n",
    "\n",
    "#update the third element of individual_items_count with no of frequent triples each item is in. If item is not in any triple, it will be set to 0\n",
    "individual_items_count = capture_item_count(triple_freq_items,individual_items_count,no_of_items_in_tuple =3)"
   ]
  },
  {
   "cell_type": "code",
   "execution_count": 13,
   "metadata": {},
   "outputs": [
    {
     "data": {
      "text/plain": [
       "76151"
      ]
     },
     "execution_count": 13,
     "metadata": {},
     "output_type": "execute_result"
    }
   ],
   "source": [
    "len(triple_freq_items)"
   ]
  },
  {
   "cell_type": "code",
   "execution_count": 14,
   "metadata": {},
   "outputs": [],
   "source": [
    "#Similar to frequent triple, we now:\n",
    "#check for each item being in atleast 3 frequent triples\n",
    "#create all possible quads\n",
    "#each quad can make four triples. All four triples have to be frequent for the quad to be a candidate itemset\n",
    "\n",
    "quad_count = {}\n",
    "for k, v in raw_data.items():\n",
    "\n",
    "    v = list(map(int, v))\n",
    "    v.sort()\n",
    "    v = list(map(str, v))\n",
    "    candidate_quad_single = []\n",
    "    \n",
    "    \n",
    "    if len(v) >=4:\n",
    "        for i in range(len(v)):\n",
    "                try:\n",
    "                    if individual_items_count[v[i]][2] >=3:\n",
    "                        candidate_quad_single.append(v[i])\n",
    "                        \n",
    "                except KeyError:\n",
    "                    continue\n",
    "            \n",
    "        if len(candidate_quad_single) >=4:\n",
    "            for p in range(len(candidate_quad_single)-3):\n",
    "                for q in range(p+1,len(candidate_quad_single)-2):\n",
    "                    for r in range(q+1, len(candidate_quad_single)-1):\n",
    "                        for l in range(r+1,len(candidate_quad_single)):\n",
    "                            a = (candidate_quad_single[p],candidate_quad_single[q],candidate_quad_single[r],candidate_quad_single[l])\n",
    "                            candidate_quad_triple = []\n",
    "                            for i in range(len(a)-2):\n",
    "                                for j in range(i+1,len(a)-1):\n",
    "                                    for k in range(j+1, len(a)):\n",
    "                                        if (a[i],a[j],a[k]) in triple_freq_items.keys():\n",
    "                                            candidate_quad_triple.append((a[i],a[j],a[k]))\n",
    "                                        else:\n",
    "                                            continue\n",
    "\n",
    "                            if len(candidate_quad_triple)== 4:\n",
    "                                if a in quad_count.keys():\n",
    "                                    quad_count[a] += 1\n",
    "                                else:\n",
    "                                    quad_count[a] =1\n",
    "                            else: \n",
    "                                continue\n",
    "\n",
    "quad_freq_items = prune(quad_count)\n",
    "individual_items_count = capture_item_count(quad_freq_items,individual_items_count,no_of_items_in_tuple =4)"
   ]
  },
  {
   "cell_type": "code",
   "execution_count": 15,
   "metadata": {},
   "outputs": [
    {
     "data": {
      "text/plain": [
       "56225"
      ]
     },
     "execution_count": 15,
     "metadata": {},
     "output_type": "execute_result"
    }
   ],
   "source": [
    "len(quad_freq_items)"
   ]
  },
  {
   "cell_type": "code",
   "execution_count": 16,
   "metadata": {},
   "outputs": [],
   "source": [
    "#Similar to triple and quad\n",
    "five_count = {}\n",
    "for k, v in raw_data.items():\n",
    "\n",
    "    v = list(map(int, v))\n",
    "    v.sort()\n",
    "    v = list(map(str, v))\n",
    "    candidate_five_single = []\n",
    "    \n",
    "    \n",
    "    if len(v) >=5:\n",
    "        for i in range(len(v)):\n",
    "            if individual_items_count[v[i]][3] >=4:\n",
    "                candidate_five_single.append(v[i])\n",
    "                        \n",
    "                \n",
    "        if len(candidate_five_single) >=5:\n",
    "            for p in range(len(candidate_five_single)-4):\n",
    "                for q in range(p+1,len(candidate_five_single)-3):\n",
    "                    for r in range(q+1, len(candidate_five_single)-2):\n",
    "                        for l in range(r+1,len(candidate_five_single)-1):\n",
    "                            for m in range(r+1,len(candidate_five_single)):\n",
    "                                a = (candidate_five_single[p],candidate_five_single[q],candidate_five_single[r],candidate_five_single[l],candidate_five_single[m] )\n",
    "                                candidate_five_quad = []\n",
    "                                for i in range(len(a)-3):\n",
    "                                    for j in range(i+1,len(a)-2):\n",
    "                                        for k in range(j+1, len(a)-1):\n",
    "                                            for h in range(k+1, len(a)):\n",
    "                                                if (a[i],a[j],a[k],a[h]) in quad_freq_items.keys():\n",
    "                                                    candidate_five_quad.append((a[i],a[j],a[k],a[h]))\n",
    "                                                else:\n",
    "                                                    continue\n",
    "\n",
    "                                if len(candidate_five_quad)== 5:\n",
    "                                    if a in five_count.keys():\n",
    "                                        five_count[a] += 1\n",
    "                                    else:\n",
    "                                        five_count[a] =1\n",
    "                                else: \n",
    "                                    continue\n",
    "\n",
    "five_freq_items = prune(five_count)\n",
    "individual_items_count = capture_item_count(five_freq_items,individual_items_count,no_of_items_in_tuple =5)"
   ]
  },
  {
   "cell_type": "code",
   "execution_count": 17,
   "metadata": {},
   "outputs": [
    {
     "data": {
      "text/plain": [
       "34608"
      ]
     },
     "execution_count": 17,
     "metadata": {},
     "output_type": "execute_result"
    }
   ],
   "source": [
    "len(five_freq_items)"
   ]
  },
  {
   "cell_type": "code",
   "execution_count": 18,
   "metadata": {},
   "outputs": [],
   "source": [
    "six_count = {}\n",
    "for k, v in raw_data.items():\n",
    "\n",
    "    v = list(map(int, v))\n",
    "    v.sort()\n",
    "    v = list(map(str, v))\n",
    "    candidate_six_single = []\n",
    "    \n",
    "    \n",
    "    if len(v) >=6:\n",
    "        for i in range(len(v)):\n",
    "            if individual_items_count[v[i]][4] >=5:\n",
    "                candidate_six_single.append(v[i])\n",
    "                        \n",
    "                \n",
    "        if len(candidate_six_single) >=6:\n",
    "            for p in range(len(candidate_six_single)-5):\n",
    "                for q in range(p+1,len(candidate_six_single)-4):\n",
    "                    for r in range(q+1, len(candidate_six_single)-3):\n",
    "                        for l in range(r+1,len(candidate_six_single)-2):\n",
    "                            for m in range(r+1,len(candidate_six_single)-1):\n",
    "                                for m1 in range(m,len(candidate_six_single)):\n",
    "                                    a = (candidate_six_single[p],candidate_six_single[q],candidate_six_single[r],candidate_six_single[l],candidate_six_single[m],candidate_six_single[m1]  )\n",
    "                                    candidate_six_five = []\n",
    "                                    for i in range(len(a)-4):\n",
    "                                        for j in range(i+1,len(a)-3):\n",
    "                                            for k in range(j+1, len(a)-2):\n",
    "                                                for h in range(k+1, len(a)-1):\n",
    "                                                    for h1 in range(h+1, len(a)):\n",
    "                                                        if (a[i],a[j],a[k],a[h],a[h1]) in five_freq_items.keys():\n",
    "                                                            candidate_six_five.append((a[i],a[j],a[k],a[h],a[h1]))\n",
    "                                                        else:\n",
    "                                                            continue\n",
    "\n",
    "                                    if len(candidate_six_five)== 5:\n",
    "                                        if a in six_count.keys():\n",
    "                                            six_count[a] += 1\n",
    "                                        else:\n",
    "                                            six_count[a] =1\n",
    "                                    else: \n",
    "                                        continue\n",
    "\n",
    "\n",
    "six_freq_items = prune(six_count)\n",
    "individual_items_count = capture_item_count(six_freq_items,individual_items_count,no_of_items_in_tuple =6)"
   ]
  },
  {
   "cell_type": "code",
   "execution_count": 19,
   "metadata": {},
   "outputs": [
    {
     "data": {
      "text/plain": [
       "473"
      ]
     },
     "execution_count": 19,
     "metadata": {},
     "output_type": "execute_result"
    }
   ],
   "source": [
    "len(six_count)"
   ]
  },
  {
   "cell_type": "code",
   "execution_count": 20,
   "metadata": {},
   "outputs": [],
   "source": [
    "# Checking the results for one item set. We retrieve transaction ids which have one itemset from above\n",
    "# No of transactions should match the itemset count. I verified it for a few combinations. \n",
    "#So, the result makes sense\n",
    "cnt = []\n",
    "for k,v in  raw_data.items():\n",
    "    if ('36' in v and '37' in v and '38' in v and  '39' in v and  '41' in v  and '42' in v): \n",
    "        cnt.append(k)"
   ]
  },
  {
   "cell_type": "code",
   "execution_count": 21,
   "metadata": {},
   "outputs": [
    {
     "data": {
      "text/plain": [
       "[3, 8148, 11192]"
      ]
     },
     "execution_count": 21,
     "metadata": {},
     "output_type": "execute_result"
    }
   ],
   "source": [
    "cnt"
   ]
  },
  {
   "cell_type": "code",
   "execution_count": 22,
   "metadata": {},
   "outputs": [
    {
     "data": {
      "text/plain": [
       "['36',\n",
       " '37',\n",
       " '38',\n",
       " '39',\n",
       " '41',\n",
       " '42',\n",
       " '44',\n",
       " '45',\n",
       " '249',\n",
       " '267',\n",
       " '408',\n",
       " '766',\n",
       " '2554',\n",
       " '2812',\n",
       " '3660',\n",
       " '3775',\n",
       " '5767',\n",
       " '8718']"
      ]
     },
     "execution_count": 22,
     "metadata": {},
     "output_type": "execute_result"
    }
   ],
   "source": [
    "raw_data[cnt[2]]"
   ]
  },
  {
   "cell_type": "code",
   "execution_count": 23,
   "metadata": {},
   "outputs": [
    {
     "data": {
      "text/plain": [
       "0"
      ]
     },
     "execution_count": 23,
     "metadata": {},
     "output_type": "execute_result"
    }
   ],
   "source": [
    "len(six_freq_items)"
   ]
  },
  {
   "cell_type": "code",
   "execution_count": 24,
   "metadata": {},
   "outputs": [],
   "source": [
    "#Since there are no frequent itemsets of size 6, there cant be any frequent itemsets of size 7 or above.\n",
    "#However, just to confirm-\n",
    "seven_count = {}\n",
    "for k, v in raw_data.items():\n",
    "\n",
    "    v = list(map(int, v))\n",
    "    v.sort()\n",
    "    v = list(map(str, v))\n",
    "    candidate_seven_single = []\n",
    "    \n",
    "    \n",
    "    if len(v) >=7:\n",
    "        for i in range(len(v)):\n",
    "            if individual_items_count[v[i]][5] >=6:\n",
    "                candidate_seven_single.append(v[i])\n",
    "                        \n",
    "                \n",
    "        if len(candidate_seven_single) >=7:\n",
    "            for p in range(len(candidate_seven_single)-6):\n",
    "                for q in range(p+1,len(candidate_seven_single)-5):\n",
    "                    for r in range(q+1, len(candidate_seven_single)-4):\n",
    "                        for l in range(r+1,len(candidate_seven_single)-3):\n",
    "                            for m in range(r+1,len(candidate_seven_single)-2):\n",
    "                                for m1 in range(m,len(candidate_seven_single)-1):\n",
    "                                    for m2 in range(m1,len(candidate_seven_single)):\n",
    "                                        a = (candidate_seven_single[p],candidate_seven_single[q],candidate_seven_single[r],candidate_seven_single[l],candidate_seven_single[m],candidate_seven_single[m1],candidate_seven_single[m2])\n",
    "                                        candidate_seven_six = []\n",
    "                                        for i in range(len(a)-5):\n",
    "                                            for j in range(i+1,len(a)-4):\n",
    "                                                for k in range(j+1, len(a)-3):\n",
    "                                                    for h in range(k+1, len(a)-2):\n",
    "                                                        for h1 in range(h+1, len(a)-1):\n",
    "                                                            for h2 in range(h1+1, len(a)):\n",
    "                                                                if (a[i],a[j],a[k],a[h],a[h1], a[h2]) in six_freq_items.keys():\n",
    "                                                                    candidate_seven_six.append((a[i],a[j],a[k],a[h],a[h1],a[h2]))\n",
    "                                                                else:\n",
    "                                                                    continue\n",
    "\n",
    "                                        if len(candidate_seven_six)== 6:\n",
    "                                            if a in seven_count.keys():\n",
    "                                                seven_count[a] += 1\n",
    "                                            else:\n",
    "                                                seven_count[a] =1\n",
    "                                        else: \n",
    "                                            continue\n",
    "\n",
    "\n",
    "seven_freq_items = prune(seven_count)\n",
    "individual_items_count = capture_item_count(seven_freq_items,individual_items_count,no_of_items_in_tuple =7)"
   ]
  },
  {
   "cell_type": "code",
   "execution_count": 25,
   "metadata": {},
   "outputs": [
    {
     "data": {
      "text/plain": [
       "0"
      ]
     },
     "execution_count": 25,
     "metadata": {},
     "output_type": "execute_result"
    }
   ],
   "source": [
    "len(seven_freq_items)"
   ]
  },
  {
   "cell_type": "code",
   "execution_count": 26,
   "metadata": {},
   "outputs": [],
   "source": [
    "#function to convert frequent itemsets into dataframe\n",
    "def convert_to_df(x, size):\n",
    "    y = pd.DataFrame.from_dict(x,orient = \"index\", columns = [\"Frequency\"])\n",
    "    y[\"Itemset_size\"] = size\n",
    "    y[\"Itemset\"] = y.index\n",
    "    y = y[[\"Itemset_size\",\"Frequency\",\"Itemset\"]]\n",
    "    return y"
   ]
  },
  {
   "cell_type": "code",
   "execution_count": 27,
   "metadata": {},
   "outputs": [],
   "source": [
    "#append dataframes to one dataframe\n",
    "#single = convert_to_df(single_freq_items,1)\n",
    "#double = convert_to_df(double_freq_items,2)\n",
    "triple = convert_to_df(triple_freq_items,3)\n",
    "quad = convert_to_df(quad_freq_items,4)\n",
    "five = convert_to_df(five_freq_items,5)\n",
    "final_result = pd.concat([triple,quad,five], ignore_index= True)\n",
    "final_result.to_csv(\"C:/Users/akolachi/Globality Retail25K/frequent_itemsets_final_output.csv\")"
   ]
  },
  {
   "cell_type": "code",
   "execution_count": 28,
   "metadata": {
    "scrolled": true
   },
   "outputs": [
    {
     "data": {
      "text/html": [
       "<div>\n",
       "<style scoped>\n",
       "    .dataframe tbody tr th:only-of-type {\n",
       "        vertical-align: middle;\n",
       "    }\n",
       "\n",
       "    .dataframe tbody tr th {\n",
       "        vertical-align: top;\n",
       "    }\n",
       "\n",
       "    .dataframe thead th {\n",
       "        text-align: right;\n",
       "    }\n",
       "</style>\n",
       "<table border=\"1\" class=\"dataframe\">\n",
       "  <thead>\n",
       "    <tr style=\"text-align: right;\">\n",
       "      <th></th>\n",
       "      <th>Itemset_size</th>\n",
       "      <th>Frequency</th>\n",
       "      <th>Itemset</th>\n",
       "    </tr>\n",
       "  </thead>\n",
       "  <tbody>\n",
       "    <tr>\n",
       "      <th>0</th>\n",
       "      <td>3</td>\n",
       "      <td>5</td>\n",
       "      <td>(30, 31, 32)</td>\n",
       "    </tr>\n",
       "    <tr>\n",
       "      <th>1</th>\n",
       "      <td>3</td>\n",
       "      <td>17</td>\n",
       "      <td>(36, 37, 38)</td>\n",
       "    </tr>\n",
       "    <tr>\n",
       "      <th>2</th>\n",
       "      <td>3</td>\n",
       "      <td>10</td>\n",
       "      <td>(36, 37, 39)</td>\n",
       "    </tr>\n",
       "    <tr>\n",
       "      <th>3</th>\n",
       "      <td>3</td>\n",
       "      <td>8</td>\n",
       "      <td>(36, 37, 41)</td>\n",
       "    </tr>\n",
       "    <tr>\n",
       "      <th>4</th>\n",
       "      <td>3</td>\n",
       "      <td>5</td>\n",
       "      <td>(36, 37, 42)</td>\n",
       "    </tr>\n",
       "  </tbody>\n",
       "</table>\n",
       "</div>"
      ],
      "text/plain": [
       "   Itemset_size  Frequency       Itemset\n",
       "0             3          5  (30, 31, 32)\n",
       "1             3         17  (36, 37, 38)\n",
       "2             3         10  (36, 37, 39)\n",
       "3             3          8  (36, 37, 41)\n",
       "4             3          5  (36, 37, 42)"
      ]
     },
     "execution_count": 28,
     "metadata": {},
     "output_type": "execute_result"
    }
   ],
   "source": [
    "final_result.head()"
   ]
  },
  {
   "cell_type": "code",
   "execution_count": null,
   "metadata": {},
   "outputs": [],
   "source": []
  }
 ],
 "metadata": {
  "kernelspec": {
   "display_name": "Python 3",
   "language": "python",
   "name": "python3"
  },
  "language_info": {
   "codemirror_mode": {
    "name": "ipython",
    "version": 3
   },
   "file_extension": ".py",
   "mimetype": "text/x-python",
   "name": "python",
   "nbconvert_exporter": "python",
   "pygments_lexer": "ipython3",
   "version": "3.6.5"
  }
 },
 "nbformat": 4,
 "nbformat_minor": 2
}
